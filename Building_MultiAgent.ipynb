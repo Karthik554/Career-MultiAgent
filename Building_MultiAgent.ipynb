{
  "nbformat": 4,
  "nbformat_minor": 0,
  "metadata": {
    "colab": {
      "provenance": []
    },
    "kernelspec": {
      "name": "python3",
      "display_name": "Python 3"
    },
    "language_info": {
      "name": "python"
    }
  },
  "cells": [
    {
      "cell_type": "code",
      "execution_count": null,
      "metadata": {
        "id": "qUgAV4ZlHUiJ"
      },
      "outputs": [],
      "source": [
        "from google.colab import userdata\n",
        "api_key=userdata.get('APIKEY')\n"
      ]
    },
    {
      "cell_type": "code",
      "source": [
        "!pip install -q U langchain-google-genai"
      ],
      "metadata": {
        "id": "tMJ0ceP9JPoz",
        "colab": {
          "base_uri": "https://localhost:8080/"
        },
        "outputId": "e625e802-cb31-4baf-eb2d-2198a9e0096e"
      },
      "execution_count": null,
      "outputs": [
        {
          "output_type": "stream",
          "name": "stdout",
          "text": [
            "\u001b[2K   \u001b[90m━━━━━━━━━━━━━━━━━━━━━━━━━━━━━━━━━━━━━━━━\u001b[0m \u001b[32m44.8/44.8 kB\u001b[0m \u001b[31m1.8 MB/s\u001b[0m eta \u001b[36m0:00:00\u001b[0m\n",
            "\u001b[2K   \u001b[90m━━━━━━━━━━━━━━━━━━━━━━━━━━━━━━━━━━━━━━━━\u001b[0m \u001b[32m1.4/1.4 MB\u001b[0m \u001b[31m20.4 MB/s\u001b[0m eta \u001b[36m0:00:00\u001b[0m\n",
            "\u001b[2K   \u001b[90m━━━━━━━━━━━━━━━━━━━━━━━━━━━━━━━━━━━━━━━━\u001b[0m \u001b[32m438.5/438.5 kB\u001b[0m \u001b[31m17.0 MB/s\u001b[0m eta \u001b[36m0:00:00\u001b[0m\n",
            "\u001b[?25h\u001b[31mERROR: pip's dependency resolver does not currently take into account all the packages that are installed. This behaviour is the source of the following dependency conflicts.\n",
            "google-generativeai 0.8.5 requires google-ai-generativelanguage==0.6.15, but you have google-ai-generativelanguage 0.6.18 which is incompatible.\u001b[0m\u001b[31m\n",
            "\u001b[0m"
          ]
        }
      ]
    },
    {
      "cell_type": "code",
      "source": [
        "from langchain_google_genai import ChatGoogleGenerativeAI\n",
        "model=ChatGoogleGenerativeAI(model=\"gemini-2.0-flash\",api_key=api_key)\n",
        "response=model.invoke(\"What is meant MCP?\")\n",
        "print(response)"
      ],
      "metadata": {
        "colab": {
          "base_uri": "https://localhost:8080/"
        },
        "id": "zSwCI2qNJ-uo",
        "outputId": "eaf77edf-a470-48c4-fcf9-caf9d95f1729"
      },
      "execution_count": null,
      "outputs": [
        {
          "output_type": "stream",
          "name": "stdout",
          "text": [
            "content='MCP can stand for a few different things, depending on the context. Here are some of the most common meanings:\\n\\n**1. Microsoft Certified Professional (MCP):**\\n\\n*   This is the most common meaning. It refers to an individual who has passed one or more Microsoft certification exams. It\\'s a foundational certification that demonstrates basic proficiency in a Microsoft technology. While Microsoft has evolved its certification program, the term \"MCP\" is still often used to refer to anyone who has achieved at least one Microsoft certification.\\n\\n**2. Main Control Program (MCP):**\\n\\n*   This refers to the operating system used by Burroughs Corporation (later Unisys) mainframe computers. It was an early and influential operating system known for its security and use of high-level languages.\\n\\n**3. Massively Concurrent Processing (MCP):**\\n\\n*   In computer science, this refers to architectures or systems designed to handle a large number of simultaneous processes.\\n\\n**4. Master Control Program (MCP):**\\n\\n*   This is a fictional AI from the movie Tron (1982). It\\'s the main antagonist, a powerful program that controls the ENCOM computer system.\\n\\n**5. Message Completion Percentage (MCP):**\\n\\n*   Used in telecommunications, this refers to the percentage of messages that are successfully delivered.\\n\\n**6. Multi-Chip Package (MCP):**\\n\\n*   In electronics, this refers to a single integrated circuit package that contains multiple chips, often of different types (e.g., memory and a processor).\\n\\n**7. Minimum Connecting Pressure (MCP):**\\n\\n*   Used in some industrial or engineering contexts related to pressure regulation.\\n\\n**8. Monocalcium Phosphate (MCP):**\\n\\n*   Used in agriculture and animal feed as a source of phosphorus.\\n\\n**9. Multi-Channel Pipette (MCP):**\\n\\n*   A laboratory tool used to dispense multiple samples simultaneously.\\n\\n**10. Medical Care Plan (MCP):**\\n\\n*   A type of health insurance plan, particularly in some Canadian provinces.\\n\\n**To figure out what MCP means in a specific situation, you need to consider the context in which it is used.**\\n\\nFor example, if you\\'re talking about IT certifications, it likely refers to \"Microsoft Certified Professional.\" If you\\'re discussing older mainframe computers, it might refer to the \"Main Control Program.\"' additional_kwargs={} response_metadata={'prompt_feedback': {'block_reason': 0, 'safety_ratings': []}, 'finish_reason': 'STOP', 'model_name': 'gemini-2.0-flash', 'safety_ratings': []} id='run--4e0c8fd9-2f36-4252-b6c7-5c2c058d3ea9-0' usage_metadata={'input_tokens': 5, 'output_tokens': 490, 'total_tokens': 495, 'input_token_details': {'cache_read': 0}}\n"
          ]
        }
      ]
    },
    {
      "cell_type": "code",
      "source": [
        "!pip install langchain_community"
      ],
      "metadata": {
        "colab": {
          "base_uri": "https://localhost:8080/"
        },
        "id": "-ADGDFooNYes",
        "outputId": "60493cf1-9c86-4d2c-f99a-7c978e54387f"
      },
      "execution_count": null,
      "outputs": [
        {
          "output_type": "stream",
          "name": "stdout",
          "text": [
            "Collecting langchain_community\n",
            "  Downloading langchain_community-0.3.24-py3-none-any.whl.metadata (2.5 kB)\n",
            "Requirement already satisfied: langchain-core<1.0.0,>=0.3.59 in /usr/local/lib/python3.11/dist-packages (from langchain_community) (0.3.63)\n",
            "Requirement already satisfied: langchain<1.0.0,>=0.3.25 in /usr/local/lib/python3.11/dist-packages (from langchain_community) (0.3.25)\n",
            "Requirement already satisfied: SQLAlchemy<3,>=1.4 in /usr/local/lib/python3.11/dist-packages (from langchain_community) (2.0.41)\n",
            "Requirement already satisfied: requests<3,>=2 in /usr/local/lib/python3.11/dist-packages (from langchain_community) (2.32.3)\n",
            "Requirement already satisfied: PyYAML>=5.3 in /usr/local/lib/python3.11/dist-packages (from langchain_community) (6.0.2)\n",
            "Requirement already satisfied: aiohttp<4.0.0,>=3.8.3 in /usr/local/lib/python3.11/dist-packages (from langchain_community) (3.11.15)\n",
            "Requirement already satisfied: tenacity!=8.4.0,<10,>=8.1.0 in /usr/local/lib/python3.11/dist-packages (from langchain_community) (9.1.2)\n",
            "Collecting dataclasses-json<0.7,>=0.5.7 (from langchain_community)\n",
            "  Downloading dataclasses_json-0.6.7-py3-none-any.whl.metadata (25 kB)\n",
            "Collecting pydantic-settings<3.0.0,>=2.4.0 (from langchain_community)\n",
            "  Downloading pydantic_settings-2.9.1-py3-none-any.whl.metadata (3.8 kB)\n",
            "Requirement already satisfied: langsmith<0.4,>=0.1.125 in /usr/local/lib/python3.11/dist-packages (from langchain_community) (0.3.42)\n",
            "Collecting httpx-sse<1.0.0,>=0.4.0 (from langchain_community)\n",
            "  Downloading httpx_sse-0.4.0-py3-none-any.whl.metadata (9.0 kB)\n",
            "Requirement already satisfied: numpy>=1.26.2 in /usr/local/lib/python3.11/dist-packages (from langchain_community) (2.0.2)\n",
            "Requirement already satisfied: aiohappyeyeballs>=2.3.0 in /usr/local/lib/python3.11/dist-packages (from aiohttp<4.0.0,>=3.8.3->langchain_community) (2.6.1)\n",
            "Requirement already satisfied: aiosignal>=1.1.2 in /usr/local/lib/python3.11/dist-packages (from aiohttp<4.0.0,>=3.8.3->langchain_community) (1.3.2)\n",
            "Requirement already satisfied: attrs>=17.3.0 in /usr/local/lib/python3.11/dist-packages (from aiohttp<4.0.0,>=3.8.3->langchain_community) (25.3.0)\n",
            "Requirement already satisfied: frozenlist>=1.1.1 in /usr/local/lib/python3.11/dist-packages (from aiohttp<4.0.0,>=3.8.3->langchain_community) (1.6.0)\n",
            "Requirement already satisfied: multidict<7.0,>=4.5 in /usr/local/lib/python3.11/dist-packages (from aiohttp<4.0.0,>=3.8.3->langchain_community) (6.4.4)\n",
            "Requirement already satisfied: propcache>=0.2.0 in /usr/local/lib/python3.11/dist-packages (from aiohttp<4.0.0,>=3.8.3->langchain_community) (0.3.1)\n",
            "Requirement already satisfied: yarl<2.0,>=1.17.0 in /usr/local/lib/python3.11/dist-packages (from aiohttp<4.0.0,>=3.8.3->langchain_community) (1.20.0)\n",
            "Collecting marshmallow<4.0.0,>=3.18.0 (from dataclasses-json<0.7,>=0.5.7->langchain_community)\n",
            "  Downloading marshmallow-3.26.1-py3-none-any.whl.metadata (7.3 kB)\n",
            "Collecting typing-inspect<1,>=0.4.0 (from dataclasses-json<0.7,>=0.5.7->langchain_community)\n",
            "  Downloading typing_inspect-0.9.0-py3-none-any.whl.metadata (1.5 kB)\n",
            "Requirement already satisfied: langchain-text-splitters<1.0.0,>=0.3.8 in /usr/local/lib/python3.11/dist-packages (from langchain<1.0.0,>=0.3.25->langchain_community) (0.3.8)\n",
            "Requirement already satisfied: pydantic<3.0.0,>=2.7.4 in /usr/local/lib/python3.11/dist-packages (from langchain<1.0.0,>=0.3.25->langchain_community) (2.11.4)\n",
            "Requirement already satisfied: jsonpatch<2.0,>=1.33 in /usr/local/lib/python3.11/dist-packages (from langchain-core<1.0.0,>=0.3.59->langchain_community) (1.33)\n",
            "Requirement already satisfied: packaging<25,>=23.2 in /usr/local/lib/python3.11/dist-packages (from langchain-core<1.0.0,>=0.3.59->langchain_community) (24.2)\n",
            "Requirement already satisfied: typing-extensions>=4.7 in /usr/local/lib/python3.11/dist-packages (from langchain-core<1.0.0,>=0.3.59->langchain_community) (4.13.2)\n",
            "Requirement already satisfied: httpx<1,>=0.23.0 in /usr/local/lib/python3.11/dist-packages (from langsmith<0.4,>=0.1.125->langchain_community) (0.28.1)\n",
            "Requirement already satisfied: orjson<4.0.0,>=3.9.14 in /usr/local/lib/python3.11/dist-packages (from langsmith<0.4,>=0.1.125->langchain_community) (3.10.18)\n",
            "Requirement already satisfied: requests-toolbelt<2.0.0,>=1.0.0 in /usr/local/lib/python3.11/dist-packages (from langsmith<0.4,>=0.1.125->langchain_community) (1.0.0)\n",
            "Requirement already satisfied: zstandard<0.24.0,>=0.23.0 in /usr/local/lib/python3.11/dist-packages (from langsmith<0.4,>=0.1.125->langchain_community) (0.23.0)\n",
            "Collecting python-dotenv>=0.21.0 (from pydantic-settings<3.0.0,>=2.4.0->langchain_community)\n",
            "  Downloading python_dotenv-1.1.0-py3-none-any.whl.metadata (24 kB)\n",
            "Requirement already satisfied: typing-inspection>=0.4.0 in /usr/local/lib/python3.11/dist-packages (from pydantic-settings<3.0.0,>=2.4.0->langchain_community) (0.4.1)\n",
            "Requirement already satisfied: charset-normalizer<4,>=2 in /usr/local/lib/python3.11/dist-packages (from requests<3,>=2->langchain_community) (3.4.2)\n",
            "Requirement already satisfied: idna<4,>=2.5 in /usr/local/lib/python3.11/dist-packages (from requests<3,>=2->langchain_community) (3.10)\n",
            "Requirement already satisfied: urllib3<3,>=1.21.1 in /usr/local/lib/python3.11/dist-packages (from requests<3,>=2->langchain_community) (2.4.0)\n",
            "Requirement already satisfied: certifi>=2017.4.17 in /usr/local/lib/python3.11/dist-packages (from requests<3,>=2->langchain_community) (2025.4.26)\n",
            "Requirement already satisfied: greenlet>=1 in /usr/local/lib/python3.11/dist-packages (from SQLAlchemy<3,>=1.4->langchain_community) (3.2.2)\n",
            "Requirement already satisfied: anyio in /usr/local/lib/python3.11/dist-packages (from httpx<1,>=0.23.0->langsmith<0.4,>=0.1.125->langchain_community) (4.9.0)\n",
            "Requirement already satisfied: httpcore==1.* in /usr/local/lib/python3.11/dist-packages (from httpx<1,>=0.23.0->langsmith<0.4,>=0.1.125->langchain_community) (1.0.9)\n",
            "Requirement already satisfied: h11>=0.16 in /usr/local/lib/python3.11/dist-packages (from httpcore==1.*->httpx<1,>=0.23.0->langsmith<0.4,>=0.1.125->langchain_community) (0.16.0)\n",
            "Requirement already satisfied: jsonpointer>=1.9 in /usr/local/lib/python3.11/dist-packages (from jsonpatch<2.0,>=1.33->langchain-core<1.0.0,>=0.3.59->langchain_community) (3.0.0)\n",
            "Requirement already satisfied: annotated-types>=0.6.0 in /usr/local/lib/python3.11/dist-packages (from pydantic<3.0.0,>=2.7.4->langchain<1.0.0,>=0.3.25->langchain_community) (0.7.0)\n",
            "Requirement already satisfied: pydantic-core==2.33.2 in /usr/local/lib/python3.11/dist-packages (from pydantic<3.0.0,>=2.7.4->langchain<1.0.0,>=0.3.25->langchain_community) (2.33.2)\n",
            "Collecting mypy-extensions>=0.3.0 (from typing-inspect<1,>=0.4.0->dataclasses-json<0.7,>=0.5.7->langchain_community)\n",
            "  Downloading mypy_extensions-1.1.0-py3-none-any.whl.metadata (1.1 kB)\n",
            "Requirement already satisfied: sniffio>=1.1 in /usr/local/lib/python3.11/dist-packages (from anyio->httpx<1,>=0.23.0->langsmith<0.4,>=0.1.125->langchain_community) (1.3.1)\n",
            "Downloading langchain_community-0.3.24-py3-none-any.whl (2.5 MB)\n",
            "\u001b[2K   \u001b[90m━━━━━━━━━━━━━━━━━━━━━━━━━━━━━━━━━━━━━━━━\u001b[0m \u001b[32m2.5/2.5 MB\u001b[0m \u001b[31m28.5 MB/s\u001b[0m eta \u001b[36m0:00:00\u001b[0m\n",
            "\u001b[?25hDownloading dataclasses_json-0.6.7-py3-none-any.whl (28 kB)\n",
            "Downloading httpx_sse-0.4.0-py3-none-any.whl (7.8 kB)\n",
            "Downloading pydantic_settings-2.9.1-py3-none-any.whl (44 kB)\n",
            "\u001b[2K   \u001b[90m━━━━━━━━━━━━━━━━━━━━━━━━━━━━━━━━━━━━━━━━\u001b[0m \u001b[32m44.4/44.4 kB\u001b[0m \u001b[31m1.6 MB/s\u001b[0m eta \u001b[36m0:00:00\u001b[0m\n",
            "\u001b[?25hDownloading marshmallow-3.26.1-py3-none-any.whl (50 kB)\n",
            "\u001b[2K   \u001b[90m━━━━━━━━━━━━━━━━━━━━━━━━━━━━━━━━━━━━━━━━\u001b[0m \u001b[32m50.9/50.9 kB\u001b[0m \u001b[31m1.3 MB/s\u001b[0m eta \u001b[36m0:00:00\u001b[0m\n",
            "\u001b[?25hDownloading python_dotenv-1.1.0-py3-none-any.whl (20 kB)\n",
            "Downloading typing_inspect-0.9.0-py3-none-any.whl (8.8 kB)\n",
            "Downloading mypy_extensions-1.1.0-py3-none-any.whl (5.0 kB)\n",
            "Installing collected packages: python-dotenv, mypy-extensions, marshmallow, httpx-sse, typing-inspect, pydantic-settings, dataclasses-json, langchain_community\n",
            "Successfully installed dataclasses-json-0.6.7 httpx-sse-0.4.0 langchain_community-0.3.24 marshmallow-3.26.1 mypy-extensions-1.1.0 pydantic-settings-2.9.1 python-dotenv-1.1.0 typing-inspect-0.9.0\n"
          ]
        }
      ]
    },
    {
      "cell_type": "code",
      "source": [
        "!pip install langgraph"
      ],
      "metadata": {
        "colab": {
          "base_uri": "https://localhost:8080/"
        },
        "id": "72mScfEtNg9D",
        "outputId": "5f819463-852b-4b17-b445-765df993d451"
      },
      "execution_count": null,
      "outputs": [
        {
          "output_type": "stream",
          "name": "stdout",
          "text": [
            "Requirement already satisfied: langgraph in /usr/local/lib/python3.11/dist-packages (0.4.7)\n",
            "Requirement already satisfied: langchain-core>=0.1 in /usr/local/lib/python3.11/dist-packages (from langgraph) (0.3.63)\n",
            "Requirement already satisfied: langgraph-checkpoint>=2.0.26 in /usr/local/lib/python3.11/dist-packages (from langgraph) (2.0.26)\n",
            "Requirement already satisfied: langgraph-prebuilt>=0.2.0 in /usr/local/lib/python3.11/dist-packages (from langgraph) (0.2.2)\n",
            "Requirement already satisfied: langgraph-sdk>=0.1.42 in /usr/local/lib/python3.11/dist-packages (from langgraph) (0.1.70)\n",
            "Requirement already satisfied: pydantic>=2.7.4 in /usr/local/lib/python3.11/dist-packages (from langgraph) (2.11.4)\n",
            "Requirement already satisfied: xxhash>=3.5.0 in /usr/local/lib/python3.11/dist-packages (from langgraph) (3.5.0)\n",
            "Requirement already satisfied: langsmith<0.4,>=0.1.126 in /usr/local/lib/python3.11/dist-packages (from langchain-core>=0.1->langgraph) (0.3.42)\n",
            "Requirement already satisfied: tenacity!=8.4.0,<10.0.0,>=8.1.0 in /usr/local/lib/python3.11/dist-packages (from langchain-core>=0.1->langgraph) (9.1.2)\n",
            "Requirement already satisfied: jsonpatch<2.0,>=1.33 in /usr/local/lib/python3.11/dist-packages (from langchain-core>=0.1->langgraph) (1.33)\n",
            "Requirement already satisfied: PyYAML>=5.3 in /usr/local/lib/python3.11/dist-packages (from langchain-core>=0.1->langgraph) (6.0.2)\n",
            "Requirement already satisfied: packaging<25,>=23.2 in /usr/local/lib/python3.11/dist-packages (from langchain-core>=0.1->langgraph) (24.2)\n",
            "Requirement already satisfied: typing-extensions>=4.7 in /usr/local/lib/python3.11/dist-packages (from langchain-core>=0.1->langgraph) (4.13.2)\n",
            "Requirement already satisfied: ormsgpack<2.0.0,>=1.8.0 in /usr/local/lib/python3.11/dist-packages (from langgraph-checkpoint>=2.0.26->langgraph) (1.10.0)\n",
            "Requirement already satisfied: httpx>=0.25.2 in /usr/local/lib/python3.11/dist-packages (from langgraph-sdk>=0.1.42->langgraph) (0.28.1)\n",
            "Requirement already satisfied: orjson>=3.10.1 in /usr/local/lib/python3.11/dist-packages (from langgraph-sdk>=0.1.42->langgraph) (3.10.18)\n",
            "Requirement already satisfied: annotated-types>=0.6.0 in /usr/local/lib/python3.11/dist-packages (from pydantic>=2.7.4->langgraph) (0.7.0)\n",
            "Requirement already satisfied: pydantic-core==2.33.2 in /usr/local/lib/python3.11/dist-packages (from pydantic>=2.7.4->langgraph) (2.33.2)\n",
            "Requirement already satisfied: typing-inspection>=0.4.0 in /usr/local/lib/python3.11/dist-packages (from pydantic>=2.7.4->langgraph) (0.4.1)\n",
            "Requirement already satisfied: anyio in /usr/local/lib/python3.11/dist-packages (from httpx>=0.25.2->langgraph-sdk>=0.1.42->langgraph) (4.9.0)\n",
            "Requirement already satisfied: certifi in /usr/local/lib/python3.11/dist-packages (from httpx>=0.25.2->langgraph-sdk>=0.1.42->langgraph) (2025.4.26)\n",
            "Requirement already satisfied: httpcore==1.* in /usr/local/lib/python3.11/dist-packages (from httpx>=0.25.2->langgraph-sdk>=0.1.42->langgraph) (1.0.9)\n",
            "Requirement already satisfied: idna in /usr/local/lib/python3.11/dist-packages (from httpx>=0.25.2->langgraph-sdk>=0.1.42->langgraph) (3.10)\n",
            "Requirement already satisfied: h11>=0.16 in /usr/local/lib/python3.11/dist-packages (from httpcore==1.*->httpx>=0.25.2->langgraph-sdk>=0.1.42->langgraph) (0.16.0)\n",
            "Requirement already satisfied: jsonpointer>=1.9 in /usr/local/lib/python3.11/dist-packages (from jsonpatch<2.0,>=1.33->langchain-core>=0.1->langgraph) (3.0.0)\n",
            "Requirement already satisfied: requests<3,>=2 in /usr/local/lib/python3.11/dist-packages (from langsmith<0.4,>=0.1.126->langchain-core>=0.1->langgraph) (2.32.3)\n",
            "Requirement already satisfied: requests-toolbelt<2.0.0,>=1.0.0 in /usr/local/lib/python3.11/dist-packages (from langsmith<0.4,>=0.1.126->langchain-core>=0.1->langgraph) (1.0.0)\n",
            "Requirement already satisfied: zstandard<0.24.0,>=0.23.0 in /usr/local/lib/python3.11/dist-packages (from langsmith<0.4,>=0.1.126->langchain-core>=0.1->langgraph) (0.23.0)\n",
            "Requirement already satisfied: charset-normalizer<4,>=2 in /usr/local/lib/python3.11/dist-packages (from requests<3,>=2->langsmith<0.4,>=0.1.126->langchain-core>=0.1->langgraph) (3.4.2)\n",
            "Requirement already satisfied: urllib3<3,>=1.21.1 in /usr/local/lib/python3.11/dist-packages (from requests<3,>=2->langsmith<0.4,>=0.1.126->langchain-core>=0.1->langgraph) (2.4.0)\n",
            "Requirement already satisfied: sniffio>=1.1 in /usr/local/lib/python3.11/dist-packages (from anyio->httpx>=0.25.2->langgraph-sdk>=0.1.42->langgraph) (1.3.1)\n"
          ]
        }
      ]
    },
    {
      "cell_type": "code",
      "source": [
        "! pip install langgraph tavily-python"
      ],
      "metadata": {
        "id": "J8DkDrHYOp9X",
        "colab": {
          "base_uri": "https://localhost:8080/"
        },
        "outputId": "c64d75a8-5f1a-4042-d03d-e6d8c8cc5085"
      },
      "execution_count": null,
      "outputs": [
        {
          "output_type": "stream",
          "name": "stdout",
          "text": [
            "Requirement already satisfied: langgraph in /usr/local/lib/python3.11/dist-packages (0.4.7)\n",
            "Requirement already satisfied: tavily-python in /usr/local/lib/python3.11/dist-packages (0.7.3)\n",
            "Requirement already satisfied: langchain-core>=0.1 in /usr/local/lib/python3.11/dist-packages (from langgraph) (0.3.63)\n",
            "Requirement already satisfied: langgraph-checkpoint>=2.0.26 in /usr/local/lib/python3.11/dist-packages (from langgraph) (2.0.26)\n",
            "Requirement already satisfied: langgraph-prebuilt>=0.2.0 in /usr/local/lib/python3.11/dist-packages (from langgraph) (0.2.2)\n",
            "Requirement already satisfied: langgraph-sdk>=0.1.42 in /usr/local/lib/python3.11/dist-packages (from langgraph) (0.1.70)\n",
            "Requirement already satisfied: pydantic>=2.7.4 in /usr/local/lib/python3.11/dist-packages (from langgraph) (2.11.4)\n",
            "Requirement already satisfied: xxhash>=3.5.0 in /usr/local/lib/python3.11/dist-packages (from langgraph) (3.5.0)\n",
            "Requirement already satisfied: requests in /usr/local/lib/python3.11/dist-packages (from tavily-python) (2.32.3)\n",
            "Requirement already satisfied: tiktoken>=0.5.1 in /usr/local/lib/python3.11/dist-packages (from tavily-python) (0.9.0)\n",
            "Requirement already satisfied: httpx in /usr/local/lib/python3.11/dist-packages (from tavily-python) (0.28.1)\n",
            "Requirement already satisfied: langsmith<0.4,>=0.1.126 in /usr/local/lib/python3.11/dist-packages (from langchain-core>=0.1->langgraph) (0.3.42)\n",
            "Requirement already satisfied: tenacity!=8.4.0,<10.0.0,>=8.1.0 in /usr/local/lib/python3.11/dist-packages (from langchain-core>=0.1->langgraph) (9.1.2)\n",
            "Requirement already satisfied: jsonpatch<2.0,>=1.33 in /usr/local/lib/python3.11/dist-packages (from langchain-core>=0.1->langgraph) (1.33)\n",
            "Requirement already satisfied: PyYAML>=5.3 in /usr/local/lib/python3.11/dist-packages (from langchain-core>=0.1->langgraph) (6.0.2)\n",
            "Requirement already satisfied: packaging<25,>=23.2 in /usr/local/lib/python3.11/dist-packages (from langchain-core>=0.1->langgraph) (24.2)\n",
            "Requirement already satisfied: typing-extensions>=4.7 in /usr/local/lib/python3.11/dist-packages (from langchain-core>=0.1->langgraph) (4.13.2)\n",
            "Requirement already satisfied: ormsgpack<2.0.0,>=1.8.0 in /usr/local/lib/python3.11/dist-packages (from langgraph-checkpoint>=2.0.26->langgraph) (1.10.0)\n",
            "Requirement already satisfied: orjson>=3.10.1 in /usr/local/lib/python3.11/dist-packages (from langgraph-sdk>=0.1.42->langgraph) (3.10.18)\n",
            "Requirement already satisfied: anyio in /usr/local/lib/python3.11/dist-packages (from httpx->tavily-python) (4.9.0)\n",
            "Requirement already satisfied: certifi in /usr/local/lib/python3.11/dist-packages (from httpx->tavily-python) (2025.4.26)\n",
            "Requirement already satisfied: httpcore==1.* in /usr/local/lib/python3.11/dist-packages (from httpx->tavily-python) (1.0.9)\n",
            "Requirement already satisfied: idna in /usr/local/lib/python3.11/dist-packages (from httpx->tavily-python) (3.10)\n",
            "Requirement already satisfied: h11>=0.16 in /usr/local/lib/python3.11/dist-packages (from httpcore==1.*->httpx->tavily-python) (0.16.0)\n",
            "Requirement already satisfied: annotated-types>=0.6.0 in /usr/local/lib/python3.11/dist-packages (from pydantic>=2.7.4->langgraph) (0.7.0)\n",
            "Requirement already satisfied: pydantic-core==2.33.2 in /usr/local/lib/python3.11/dist-packages (from pydantic>=2.7.4->langgraph) (2.33.2)\n",
            "Requirement already satisfied: typing-inspection>=0.4.0 in /usr/local/lib/python3.11/dist-packages (from pydantic>=2.7.4->langgraph) (0.4.1)\n",
            "Requirement already satisfied: regex>=2022.1.18 in /usr/local/lib/python3.11/dist-packages (from tiktoken>=0.5.1->tavily-python) (2024.11.6)\n",
            "Requirement already satisfied: charset-normalizer<4,>=2 in /usr/local/lib/python3.11/dist-packages (from requests->tavily-python) (3.4.2)\n",
            "Requirement already satisfied: urllib3<3,>=1.21.1 in /usr/local/lib/python3.11/dist-packages (from requests->tavily-python) (2.4.0)\n",
            "Requirement already satisfied: jsonpointer>=1.9 in /usr/local/lib/python3.11/dist-packages (from jsonpatch<2.0,>=1.33->langchain-core>=0.1->langgraph) (3.0.0)\n",
            "Requirement already satisfied: requests-toolbelt<2.0.0,>=1.0.0 in /usr/local/lib/python3.11/dist-packages (from langsmith<0.4,>=0.1.126->langchain-core>=0.1->langgraph) (1.0.0)\n",
            "Requirement already satisfied: zstandard<0.24.0,>=0.23.0 in /usr/local/lib/python3.11/dist-packages (from langsmith<0.4,>=0.1.126->langchain-core>=0.1->langgraph) (0.23.0)\n",
            "Requirement already satisfied: sniffio>=1.1 in /usr/local/lib/python3.11/dist-packages (from anyio->httpx->tavily-python) (1.3.1)\n"
          ]
        }
      ]
    },
    {
      "cell_type": "code",
      "source": [
        "from typing import List\n",
        "from langchain_core.messages import HumanMessage, AIMessage , BaseMessage\n",
        "from langchain_core.tools import tool\n",
        "from tavily import TavilyClient\n",
        "from langgraph.graph import MessageGraph,END\n",
        "from google.colab import userdata\n",
        "search_key=userdata.get('Search_key')\n",
        "tavily = TavilyClient(api_key=search_key)\n",
        "\n",
        "@tool(description=\"Extracted Structured data like profile , skills , experience from resume\")\n",
        "def Parse_Resume(text) :\n",
        "  prompt=f\"Extract structured info like skills, roles, years of experience from this resume:\\n\\n{text}\"\n",
        "  return model.invoke([HumanMessage(content=prompt)]).content\n",
        "\n",
        "@tool(description=\"Searching\")\n",
        "def Search_tavily(query):\n",
        "  results=tavily.search(query)\n",
        "  print(results)\n",
        "  return results[\"results\"]\n",
        "\n",
        "#Nodes\n",
        "def Profile_node(state: List[BaseMessage])-> List[BaseMessage]:\n",
        "  resume=state[-1].content\n",
        "  profile= Parse_Resume.invoke(resume)\n",
        "  return state+[AIMessage(content=f\"Extracted Profile:{profile}\")]\n",
        "\n",
        "def job_search_node(state: List[BaseMessage])-> List[BaseMessage]:\n",
        "  profile=state[-1].content\n",
        "  query = model.invoke([HumanMessage(content=f\"Based on this profile, write a job search query/description: \\n{profile}, keep the query/description short for search engines\")]).content\n",
        "  jobs=Search_tavily.invoke(query)\n",
        "  return state+[AIMessage(content=f\"Found Jobd:\\n {jobs}\")]\n",
        "\n",
        "def matcher_node(state: List[BaseMessage])-> List[BaseMessage]:\n",
        "  profile=state[-2].content\n",
        "  jobs=state[-1].content\n",
        "  prompt=f\"Given this profile:\\n{profile} and recommend top 3 jobs from:\\n{jobs}\"\n",
        "  ranked=model.invoke([HumanMessage(content=prompt)])\n",
        "  return state + [AIMessage(content=f\"Ranked Jobs:\\n{ranked}\")]\n",
        "\n",
        "def cover_letter_node(state:List[BaseMessage])-> List[BaseMessage]:\n",
        "  profile=state[-3].content\n",
        "  jobs=state[-2].content\n",
        "  ranked=state[-1].content\n",
        "  prompt1=f\"Write a cover letter for this job:{ranked} \\n\\n based on the profile{profile} \"\n",
        "  cover_letter=model.invoke([HumanMessage(content=prompt1)])\n",
        "  return state+[AIMessage(content=f\"Cover Letter:\\n{cover_letter}\")]\n",
        "\n",
        "graph=MessageGraph()\n",
        "graph.add_node(\"Profile\",Profile_node)\n",
        "graph.add_node(\"JobSearch\",job_search_node)\n",
        "graph.add_node(\"Matcher\",matcher_node)\n",
        "graph.add_node(\"CoverLetter\",cover_letter_node)\n",
        "graph.add_edge(\"Profile\",\"JobSearch\")\n",
        "graph.add_edge(\"JobSearch\",\"Matcher\")\n",
        "graph.add_edge(\"Matcher\",\"CoverLetter\")\n",
        "graph.add_edge(\"CoverLetter\",END)\n",
        "graph.set_entry_point(\"Profile\")\n",
        "Career_agent=graph.compile()\n",
        "\n",
        "Input_msg=HumanMessage(content=\"See, I am fresher with no experience and have done projects in cloud, Machinelearning and in GenAI\")\n",
        "response=Career_agent.invoke(Input_msg)\n",
        "\n",
        "for msg in response:\n",
        "  print({msg.content})\n",
        "\n",
        "\n",
        "\n",
        "\n",
        "\n",
        "\n",
        "\n",
        "\n",
        "\n",
        "\n",
        "\n",
        "\n",
        "\n"
      ],
      "metadata": {
        "id": "Kj6RlZIm60vj",
        "colab": {
          "base_uri": "https://localhost:8080/"
        },
        "outputId": "2ffe2714-1f0f-48de-e9af-700984b3ad94"
      },
      "execution_count": null,
      "outputs": [
        {
          "output_type": "stream",
          "name": "stdout",
          "text": [
            "{'query': '**Option 1 (Shortest):**\\n\\n> Cloud Computing, Machine Learning, GenAI - Entry Level\\n\\n**Option 2 (Slightly More Specific):**\\n\\n> Entry-Level Cloud, ML, GenAI Roles - Fresher\\n\\n**Option 3 (Focus on Projects):**\\n\\n> Cloud, Machine Learning, GenAI Projects - Entry Level', 'follow_up_questions': None, 'answer': None, 'images': [], 'results': [{'title': 'Top 10 Entry-Level Tech Jobs in 2025 - nextwork.org', 'url': 'https://www.nextwork.org/blog/top-10-entry-level-tech-jobs-in-2025', 'content': 'Discover the top 10 entry-level tech jobs in 2025, including data analysis, cloud computing, and cybersecurity. Learn skills, salaries, and hands-on projects to kickstart your tech career. ... AI/ML Junior Developers assist in creating machine learning models and AI algorithms. They help process data, fine-tune models, and integrate AI into', 'score': 0.78963995, 'raw_content': None}, {'title': 'All Generative AI entry-level jobs - aijobs.net', 'url': 'https://aijobs.net/list/generative-ai-entry-level-jobs/', 'content': 'Jobs and Talents in AI, ML, Data Science and Big Data. 🧠🐱\\u200d💻🤖🚗🚀 — All Generative AI entry-level jobs Generative AI entry-level jobs. Listed below are the latest AI, ML, Data Science jobs that are related to Generative AI as of May 2025. If you want to learn more about this topic check out our Generative AI Explained page. For an overview of all tags with open positions', 'score': 0.71040785, 'raw_content': None}, {'title': 'Machine Learning 2025 Jobs, Employment - Indeed', 'url': 'https://www.indeed.com/q-machine-learning-2025-jobs.html', 'content': '2,307 Machine Learning 2025 jobs available on Indeed.com. Apply to Software Engineer, Machine Learning Engineer, Data Scientist and more! ... Researchers across Google are working to advance the state of the art in computing and build the next generation of intelligent systems for all Google products. ... The US base salary range for this full', 'score': 0.5299209, 'raw_content': None}, {'title': 'Lead GenAI Engineer - Jobs - Careers at Apple', 'url': 'https://jobs.apple.com/en-us/details/200606890/lead-genai-engineer', 'content': 'Minimum 8+ years of experience as a GenAI or ML engineer or related technical role in technology domain areas (e.g. cloud computing, infrastructure, security, networking, machine learning) Demonstrated ability to think strategically about business, products and technical challenges', 'score': 0.40204045, 'raw_content': None}, {'title': 'The Best Remote Generative ai Jobs - on remoteAi.io', 'url': 'https://remoteai.io/roles/generative-ai', 'content': 'The Best Remote Generative ai Jobs - on remoteAi.io Your prime source for jobs and talents in AI, Prompt Engineering 💬, Generative AI 🤖, Data Science 📊, Big Data 💾 and more.🔍 generative ai Jobs Senior/Staff Machine Learning Research Scientist Generative AI Generative AI generative ai Senior Applied Research Scientist, Generative AI Generative AI generative ai Generative AI generative ai generative ai generative ai Generative AI Generative AI ML Engineer / Data scientist- Generative AI Generative AI Generative AI Generative AI Generative AI Generative AI Generative AI Generative AI Generative AI Data Scientist | Generative AI Generative AI Data Engineer | Generative AI Generative AI Generative AI Generative AI Generative AI Generative AI Generative AI Generative AI generative ai generative ai', 'score': 0.24667437, 'raw_content': None}], 'response_time': 3.63}\n",
            "{'See, I am fresher with no experience and have done projects in cloud, Machinelearning and in GenAI'}\n",
            "{'Extracted Profile:```json\\n{\\n  \"experience\": {\\n    \"years\": 0,\\n    \"details\": \"Fresher with no experience\"\\n  },\\n  \"skills\": [\\n    \"Cloud Computing\",\\n    \"Machine Learning\",\\n    \"Generative AI (GenAI)\"\\n  ],\\n  \"projects\": [\\n    {\\n      \"area\": \"Cloud\"\\n    },\\n    {\\n      \"area\": \"Machine Learning\"\\n    },\\n    {\\n      \"area\": \"Generative AI (GenAI)\"\\n    }\\n  ],\\n  \"roles\": []\\n}\\n```'}\n",
            "{\"Found Jobd:\\n [{'title': 'Top 10 Entry-Level Tech Jobs in 2025 - nextwork.org', 'url': 'https://www.nextwork.org/blog/top-10-entry-level-tech-jobs-in-2025', 'content': 'Discover the top 10 entry-level tech jobs in 2025, including data analysis, cloud computing, and cybersecurity. Learn skills, salaries, and hands-on projects to kickstart your tech career. ... AI/ML Junior Developers assist in creating machine learning models and AI algorithms. They help process data, fine-tune models, and integrate AI into', 'score': 0.78963995, 'raw_content': None}, {'title': 'All Generative AI entry-level jobs - aijobs.net', 'url': 'https://aijobs.net/list/generative-ai-entry-level-jobs/', 'content': 'Jobs and Talents in AI, ML, Data Science and Big Data. 🧠🐱\\\\u200d💻🤖🚗🚀 — All Generative AI entry-level jobs Generative AI entry-level jobs. Listed below are the latest AI, ML, Data Science jobs that are related to Generative AI as of May 2025. If you want to learn more about this topic check out our Generative AI Explained page. For an overview of all tags with open positions', 'score': 0.71040785, 'raw_content': None}, {'title': 'Machine Learning 2025 Jobs, Employment - Indeed', 'url': 'https://www.indeed.com/q-machine-learning-2025-jobs.html', 'content': '2,307 Machine Learning 2025 jobs available on Indeed.com. Apply to Software Engineer, Machine Learning Engineer, Data Scientist and more! ... Researchers across Google are working to advance the state of the art in computing and build the next generation of intelligent systems for all Google products. ... The US base salary range for this full', 'score': 0.5299209, 'raw_content': None}, {'title': 'Lead GenAI Engineer - Jobs - Careers at Apple', 'url': 'https://jobs.apple.com/en-us/details/200606890/lead-genai-engineer', 'content': 'Minimum 8+ years of experience as a GenAI or ML engineer or related technical role in technology domain areas (e.g. cloud computing, infrastructure, security, networking, machine learning) Demonstrated ability to think strategically about business, products and technical challenges', 'score': 0.40204045, 'raw_content': None}, {'title': 'The Best Remote Generative ai Jobs - on remoteAi.io', 'url': 'https://remoteai.io/roles/generative-ai', 'content': 'The Best Remote Generative ai Jobs - on remoteAi.io Your prime source for jobs and talents in AI, Prompt Engineering 💬, Generative AI 🤖, Data Science 📊, Big Data 💾 and more.🔍 generative ai Jobs Senior/Staff Machine Learning Research Scientist Generative AI Generative AI generative ai Senior Applied Research Scientist, Generative AI Generative AI generative ai Generative AI generative ai generative ai generative ai Generative AI Generative AI ML Engineer / Data scientist- Generative AI Generative AI Generative AI Generative AI Generative AI Generative AI Generative AI Generative AI Generative AI Data Scientist | Generative AI Generative AI Data Engineer | Generative AI Generative AI Generative AI Generative AI Generative AI Generative AI Generative AI Generative AI generative ai generative ai', 'score': 0.24667437, 'raw_content': None}]\"}\n",
            "{'Ranked Jobs:\\ncontent=\\'Okay, given the candidate profile and the job search results, here are my top 3 job recommendations, along with explanations:\\\\n\\\\n**Top 3 Job Recommendations**\\\\n\\\\n1.  **AI/ML Junior Developer (based on \"Top 10 Entry-Level Tech Jobs in 2025 - nextwork.org\")**\\\\n\\\\n    *   **Rationale:** This is a strong fit because the candidate is a fresher with skills in Machine Learning and Generative AI. The job description specifically mentions assisting in creating machine learning models, processing data, and integrating AI, which aligns directly with the candidate\\\\\\'s skills and project experience.  The \"entry-level\" nature of the job is also ideal for someone with no prior experience.\\\\n    *   **Why it\\\\\\'s good:** It provides a direct entry point into the AI/ML field, allowing the candidate to apply their skills immediately.\\\\n\\\\n2.  **Generative AI entry-level jobs (based on \"All Generative AI entry-level jobs - aijobs.net\")**\\\\n\\\\n    *   **Rationale:** The title itself indicates a focus on entry-level positions within Generative AI, which is one of the candidate\\\\\\'s key skills and project areas.  The description highlights AI, ML, and Data Science, which are all relevant.\\\\n    *   **Why it\\\\\\'s good:** It offers a specialized focus on Generative AI, allowing the candidate to deepen their expertise in this area.  The \"entry-level\" designation makes it suitable for a fresher.\\\\n\\\\n3.  **Software Engineer, Machine Learning Engineer, Data Scientist (based on \"Machine Learning 2025 Jobs, Employment - Indeed\")**\\\\n\\\\n    *   **Rationale:** The candidate has skills and projects in Machine Learning. The job description explicitly lists \"Software Engineer, Machine Learning Engineer, Data Scientist\" as potential roles.\\\\n    *   **Why it\\\\\\'s good:** It provides a good starting point to get into Machine learning.\\\\n\\\\n**Why other jobs were excluded:**\\\\n\\\\n*   **Lead GenAI Engineer - Jobs - Careers at Apple:** This role requires \"Minimum 8+ years of experience,\" making it unsuitable for a fresher.\\\\n*   **The Best Remote Generative ai Jobs - on remoteAi.io:** While the title is relevant, the listed jobs appear to be more senior roles (\"Senior/Staff Machine Learning Research Scientist\").\\\\n\\\\n**Important Considerations:**\\\\n\\\\n*   **Actual Job Descriptions:**  The recommendations are based on the *snippets* of job descriptions provided. It\\\\\\'s crucial to visit the actual job postings (URLs) to read the full descriptions and requirements before applying.\\\\n*   **Specific Skills:** The candidate should carefully assess the specific skills required in the full job descriptions and tailor their resume and cover letter to highlight the most relevant skills and projects.\\\\n*   **Location:** The location of the jobs is unknown. The candidate should consider their preferred location when applying.\\' additional_kwargs={} response_metadata={\\'prompt_feedback\\': {\\'block_reason\\': 0, \\'safety_ratings\\': []}, \\'finish_reason\\': \\'STOP\\', \\'model_name\\': \\'gemini-2.0-flash\\', \\'safety_ratings\\': []} id=\\'run--3e3b090b-d5af-48c0-bcc3-5ac79ff8469e-0\\' usage_metadata={\\'input_tokens\\': 984, \\'output_tokens\\': 605, \\'total_tokens\\': 1589, \\'input_token_details\\': {\\'cache_read\\': 0}}'}\n",
            "{'Cover Letter:\\ncontent=\\'Okay, based on the provided job search results and candidate profile, here\\\\\\'s a cover letter template that can be adapted for the recommended jobs.  Remember to tailor this to each specific job description!\\\\n\\\\n**[Your Name]**\\\\n[Your Address]\\\\n[Your Phone Number]\\\\n[Your Email Address]\\\\n\\\\n**[Date]**\\\\n\\\\n**[Hiring Manager Name (if known), or \"Hiring Team\"]**\\\\n[Company Name]\\\\n[Company Address]\\\\n\\\\n**Dear [Mr./Ms./Mx. Last Name (if known), or \"Hiring Team\"],**\\\\n\\\\nI am writing to express my enthusiastic interest in the [Job Title - be specific!] position at [Company Name], as advertised on [Platform where you saw the job posting - e.g., aijobs.net, Indeed, etc.].  Having recently completed my studies with a strong foundation in [Mention your degree or area of study], I am eager to contribute my skills and passion for [Mention the relevant field, e.g., AI, Machine Learning, Generative AI] to a forward-thinking organization like yours.\\\\n\\\\nMy academic background has provided me with a solid understanding of [Mention 2-3 relevant technical skills, e.g., Machine Learning algorithms, cloud computing platforms, data processing techniques].  In particular, I have developed a keen interest and practical experience in [Specifically mention Generative AI if applying for a GenAI role, otherwise focus on ML or AI].  My project work in [Mention the project area, e.g., Cloud, Machine Learning, or Generative AI] involved [Briefly and concretely describe what you did in the project and the technologies you used.  Quantify if possible. For example: \"developing a cloud-based image classification system using TensorFlow and achieving 92% accuracy.\"]. This experience has equipped me with the ability to [Mention a key skill gained, e.g., \"build and deploy machine learning models,\" \"process and analyze large datasets,\" or \"integrate AI solutions into existing systems\"].\\\\n\\\\nI am particularly drawn to [Company Name] because of [Mention something specific that interests you about the company. This could be their work in a specific area, their company culture, their reputation for innovation, etc.  Do some research!]. I am confident that my skills in [List 2-3 key skills from your profile that match the job description] align well with the requirements of this role, and I am eager to learn from experienced professionals and contribute to your team\\\\\\'s success.\\\\n\\\\nI am a highly motivated and quick learner with a strong work ethic and a passion for staying at the forefront of the rapidly evolving field of [AI/ML/GenAI]. I am excited about the opportunity to contribute to [Mention a specific goal or aspect of the company/role that resonates with you].\\\\n\\\\nThank you for your time and consideration. I have attached my resume for your review and welcome the opportunity to discuss my qualifications further in an interview.\\\\n\\\\nSincerely,\\\\n[Your Name]\\' additional_kwargs={} response_metadata={\\'prompt_feedback\\': {\\'block_reason\\': 0, \\'safety_ratings\\': []}, \\'finish_reason\\': \\'STOP\\', \\'model_name\\': \\'gemini-2.0-flash\\', \\'safety_ratings\\': []} id=\\'run--7fc91128-0d9f-4c6e-9960-370e9eb64635-0\\' usage_metadata={\\'input_tokens\\': 932, \\'output_tokens\\': 617, \\'total_tokens\\': 1549, \\'input_token_details\\': {\\'cache_read\\': 0}}'}\n"
          ]
        }
      ]
    }
  ]
}